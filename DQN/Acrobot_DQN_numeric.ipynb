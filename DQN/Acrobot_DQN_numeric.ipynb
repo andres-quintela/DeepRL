{
 "cells": [
  {
   "cell_type": "code",
   "execution_count": 1,
   "metadata": {
    "collapsed": true
   },
   "outputs": [],
   "source": [
    "%matplotlib inline"
   ]
  },
  {
   "cell_type": "markdown",
   "metadata": {},
   "source": [
    "\n",
    "DQN PyTorch Implemetation\n",
    "=====================================\n",
    "**Author**: `Andres Quintela`\n",
    "\n",
    "Based on the PyTorch DQN tutorial\n",
    "\n",
    "Arcade Learning Environment on Acrobot\n",
    "\n",
    "November 2018"
   ]
  },
  {
   "cell_type": "code",
   "execution_count": 2,
   "metadata": {},
   "outputs": [
    {
     "name": "stdout",
     "output_type": "stream",
     "text": [
      "\u001b[33mWARN: gym.spaces.Box autodetected dtype as <class 'numpy.float32'>. Please provide explicit dtype.\u001b[0m\n"
     ]
    }
   ],
   "source": [
    "import gym\n",
    "import math\n",
    "import random\n",
    "import numpy as np\n",
    "import matplotlib\n",
    "import matplotlib.pyplot as plt\n",
    "from collections import namedtuple\n",
    "from itertools import count\n",
    "from PIL import Image\n",
    "\n",
    "import torch\n",
    "import torch.nn as nn\n",
    "import torch.optim as optim\n",
    "import torch.nn.functional as F\n",
    "import torchvision.transforms as T\n",
    "\n",
    "\n",
    "env = gym.make('Acrobot-v1').unwrapped\n",
    "\n",
    "# set up matplotlib\n",
    "is_ipython = 'inline' in matplotlib.get_backend()\n",
    "if is_ipython:\n",
    "    from IPython import display\n",
    "\n",
    "plt.ion()\n",
    "\n",
    "# if gpu is to be used\n",
    "device = torch.device(\"cuda\" if torch.cuda.is_available() else \"cpu\")"
   ]
  },
  {
   "cell_type": "markdown",
   "metadata": {},
   "source": [
    "Replay Memory\n",
    "-------------"
   ]
  },
  {
   "cell_type": "code",
   "execution_count": 3,
   "metadata": {
    "collapsed": true
   },
   "outputs": [],
   "source": [
    "Transition = namedtuple('Transition',\n",
    "                        ('state', 'action', 'next_state', 'reward'))\n",
    "\n",
    "\n",
    "class ReplayMemory(object):\n",
    "\n",
    "    def __init__(self, capacity):\n",
    "        self.capacity = capacity\n",
    "        self.memory = []\n",
    "        self.position = 0\n",
    "    \n",
    "    #saving a transition tuple\n",
    "    def push(self, *args):\n",
    "        if len(self.memory) < self.capacity:\n",
    "            self.memory.append(None)\n",
    "        self.memory[self.position] = Transition(*args)\n",
    "        self.position = (self.position + 1) % self.capacity\n",
    "    #sample a random number according to batch size\n",
    "    def sample(self, batch_size):\n",
    "        return random.sample(self.memory, batch_size)\n",
    "    \n",
    "    def __len__(self):\n",
    "        return len(self.memory)"
   ]
  },
  {
   "cell_type": "markdown",
   "metadata": {},
   "source": [
    "Neural Network\n",
    "-------------"
   ]
  },
  {
   "cell_type": "code",
   "execution_count": 4,
   "metadata": {
    "collapsed": true
   },
   "outputs": [],
   "source": [
    "class DQN(nn.Module):\n",
    "    def __init__(self,input_size,action_size):\n",
    "        super(DQN, self).__init__()\n",
    "        \n",
    "        self.hidden1 = nn.Linear(input_size,16)\n",
    "        self.hidden2 = nn.Linear(16,16)\n",
    "        self.output = nn.Linear(16,action_size)\n",
    "\n",
    "    def forward(self, x):\n",
    "        x = F.relu(self.hidden1(x))\n",
    "        x = F.relu(self.hidden2(x))\n",
    "        return self.output(x.view(x.size(0), -1))\n",
    "    "
   ]
  },
  {
   "cell_type": "code",
   "execution_count": 5,
   "metadata": {
    "collapsed": true
   },
   "outputs": [],
   "source": [
    "BATCH_SIZE = 64\n",
    "GAMMA = 0.999\n",
    "EPS_START = 0.99\n",
    "EPS_END = 0.05\n",
    "EPS_DECAY = 1000\n",
    "TARGET_UPDATE = 4\n",
    "LEARNING_RATE=0.01\n",
    "\n",
    "\n",
    "input_size=len(env.reset())\n",
    "action_size=env.action_space.n\n",
    "\n",
    "\n",
    "\n",
    "policy_net = DQN(input_size,action_size).to(device)\n",
    "target_net = DQN(input_size,action_size).to(device)\n",
    "target_net.load_state_dict(policy_net.state_dict())\n",
    "target_net.eval()\n",
    "\n",
    "optimizer = optim.SGD(policy_net.parameters(),lr=LEARNING_RATE)\n",
    "memory = ReplayMemory(10000)\n",
    "\n",
    "\n",
    "steps_done = 0\n",
    "\n",
    "\n",
    "def select_action(state):\n",
    "    global steps_done\n",
    "    sample = random.random()\n",
    "    eps_threshold = EPS_END + (EPS_START - EPS_END) * \\\n",
    "        math.exp(-1. * steps_done / EPS_DECAY)\n",
    "    steps_done += 1\n",
    "    if sample > eps_threshold:\n",
    "        with torch.no_grad():\n",
    "            return policy_net(state).max(1)[1].view(1, 1)\n",
    "    else:\n",
    "        return torch.tensor([[random.randrange(action_size)]], device=device, dtype=torch.long)"
   ]
  },
  {
   "cell_type": "markdown",
   "metadata": {},
   "source": [
    "Training loop\n",
    "--------------"
   ]
  },
  {
   "cell_type": "code",
   "execution_count": 6,
   "metadata": {
    "collapsed": true
   },
   "outputs": [],
   "source": [
    "def optimize_model():\n",
    "    if len(memory) < BATCH_SIZE:\n",
    "        return\n",
    "    transitions = memory.sample(BATCH_SIZE)\n",
    "    # Transpose the batch (see http://stackoverflow.com/a/19343/3343043 for\n",
    "    # detailed explanation).\n",
    "    batch = Transition(*zip(*transitions))\n",
    "\n",
    "    # Compute a mask of non-final states and concatenate the batch elements\n",
    "    non_final_mask = torch.tensor(tuple(map(lambda s: s is not None,\n",
    "                                          batch.next_state)), device=device, dtype=torch.uint8)\n",
    "    non_final_next_states = torch.cat([s for s in batch.next_state\n",
    "                                                if s is not None])\n",
    "    state_batch = torch.cat(batch.state)\n",
    "    action_batch = torch.cat(batch.action)\n",
    "    reward_batch = torch.cat(batch.reward)\n",
    "\n",
    "    # Compute Q(s_t, a) - the model computes Q(s_t), then we select the\n",
    "    # columns of actions taken\n",
    "    state_action_values = policy_net(state_batch).gather(1, action_batch)\n",
    "\n",
    "    # Compute V(s_{t+1}) for all next states.\n",
    "    next_state_values = torch.zeros(BATCH_SIZE, device=device)\n",
    "    next_state_values[non_final_mask] = target_net(non_final_next_states).max(1)[0].detach()\n",
    "    # Compute the expected Q values\n",
    "    expected_state_action_values = (next_state_values * GAMMA) + reward_batch\n",
    "\n",
    "    # Compute Huber loss\n",
    "    loss = F.smooth_l1_loss(state_action_values, expected_state_action_values.unsqueeze(1))\n",
    "\n",
    "    # Optimize the model\n",
    "    optimizer.zero_grad()\n",
    "    loss.backward()\n",
    "    for param in policy_net.parameters():\n",
    "        param.grad.data.clamp_(-1, 1)\n",
    "    optimizer.step()"
   ]
  },
  {
   "cell_type": "markdown",
   "metadata": {},
   "source": [
    "Main Loop\n",
    "----------"
   ]
  },
  {
   "cell_type": "code",
   "execution_count": 7,
   "metadata": {},
   "outputs": [
    {
     "name": "stdout",
     "output_type": "stream",
     "text": [
      "Complete\n"
     ]
    }
   ],
   "source": [
    "num_episodes = 200\n",
    "max_t=3  #maximum timesteps per episode\n",
    "\n",
    "episode_reward=[0]*num_episodes\n",
    "i_episode_reward=0\n",
    "\n",
    "\n",
    "for i_episode in range(num_episodes):\n",
    "    # Initialize the environment and state\n",
    "    state=env.reset()\n",
    "    state=torch.tensor([state],dtype=torch.float,device=device)\n",
    "    for t in count():\n",
    "        env.render()\n",
    "        \n",
    "        # Select and perform an action\n",
    "        action = select_action(state)\n",
    "        next_state, reward, done, _ = env.step(action.item())\n",
    "        \n",
    "        \n",
    "        #give intermediate reward\n",
    "        if (next_state[0] != 0):\n",
    "            reward = torch.tensor([reward+1-next_state[0]], device=device)\n",
    "        else:\n",
    "            reward = torch.tensor([reward], device=device)\n",
    "        \n",
    "        next_state=torch.tensor([next_state],dtype=torch.float,device=device)\n",
    "\n",
    "\n",
    "        #accumulated reward for each episode\n",
    "        i_episode_reward += reward.item()\n",
    "        \n",
    "        if done:\n",
    "            next_state=None\n",
    "        \n",
    "        # Store the transition in memory\n",
    "        memory.push(state, action, next_state, reward)\n",
    "\n",
    "        # Move to the next state\n",
    "        state = next_state\n",
    "\n",
    "        # Perform one step of the optimization (on the target network)\n",
    "        optimize_model()\n",
    "        if done or (t>max_t):\n",
    "            #save episode reward\n",
    "            episode_reward[i_episode]=i_episode_reward\n",
    "            i_episode_reward=0\n",
    "            break\n",
    "    # Update the target network\n",
    "    if i_episode % TARGET_UPDATE == 0:\n",
    "        target_net.load_state_dict(policy_net.state_dict())\n",
    "\n",
    "print('Complete')"
   ]
  },
  {
   "cell_type": "code",
   "execution_count": 8,
   "metadata": {},
   "outputs": [
    {
     "data": {
      "text/plain": [
       "Text(0.5,1,'Acrobot')"
      ]
     },
     "execution_count": 8,
     "metadata": {},
     "output_type": "execute_result"
    },
    {
     "data": {
      "image/png": "[encoded data removed]",
      "text/plain": [
       "<Figure size 432x288 with 1 Axes>"
      ]
     },
     "metadata": {},
     "output_type": "display_data"
    }
   ],
   "source": [
    "plt.plot(episode_reward[:i_episode])\n",
    "plt.xlabel('Episode')\n",
    "plt.ylabel('Reward')\n",
    "plt.title('Acrobot')"
   ]
  },
  {
   "cell_type": "code",
   "execution_count": 27,
   "metadata": {},
   "outputs": [
    {
     "name": "stdout",
     "output_type": "stream",
     "text": [
      "Parameter containing:\n",
      "tensor([[ 0.0064, -0.1691, -0.3109,  0.2423,  0.3731,  0.2474],\n",
      "        [ 1.2147,  0.2595,  1.1054, -0.3108, -0.2259,  0.0932],\n",
      "        [ 0.6659, -0.2075,  0.2205,  0.1514,  0.1106, -0.2514],\n",
      "        [-0.1498, -0.0949, -0.3040,  0.3803,  0.0397,  0.1849],\n",
      "        [ 0.1549, -0.0918,  0.1105,  0.3724,  0.0812,  0.1748],\n",
      "        [-0.2887, -0.3252, -0.0877,  0.0723, -0.0827,  0.3548],\n",
      "        [ 0.2933, -0.1518, -0.3733, -0.1478, -0.3123,  0.0843],\n",
      "        [-0.0320,  0.2124, -0.2685,  0.3813,  0.0281, -0.3228],\n",
      "        [-0.2867, -0.3131, -0.3067, -0.3523,  0.2440, -0.0043],\n",
      "        [-0.1114, -0.0743, -0.3085, -0.0171, -0.1811, -0.2454],\n",
      "        [-0.0575, -0.0359, -0.1208, -0.2031,  0.0308,  0.1700],\n",
      "        [-0.3100, -0.2466,  0.0499, -0.0585,  0.0124, -0.0097],\n",
      "        [ 0.8792, -0.0197,  0.7059,  0.1242, -0.1495, -0.0046],\n",
      "        [-0.2841, -0.1602,  0.1093, -0.0764, -0.1104, -0.1661],\n",
      "        [ 0.2270, -0.3223,  0.6273,  0.2377, -0.0763, -0.3744],\n",
      "        [ 0.2266,  0.3027, -0.1829,  0.2054,  0.1730, -0.3678]],\n",
      "       requires_grad=True)\n",
      "Parameter containing:\n",
      "tensor([ 0.2894,  1.2691,  0.6523, -0.0212,  0.2321, -0.1957,  0.0912, -0.2929,\n",
      "        -0.0467, -0.1392, -0.1683,  0.2388,  0.9049, -0.3240,  0.6894,  0.5036],\n",
      "       requires_grad=True)\n",
      "Parameter containing:\n",
      "tensor([[ 0.1378, -0.1804,  0.0194,  0.1782, -0.0692,  0.2437, -0.0826,  0.2315,\n",
      "          0.0136,  0.2362, -0.0392, -0.1116,  0.0929, -0.2118,  0.0744,  0.0777],\n",
      "        [ 0.1200, -0.1525, -0.0473, -0.2449,  0.0120,  0.1197,  0.1371,  0.1704,\n",
      "         -0.0388, -0.1867, -0.0373, -0.0733, -0.0305, -0.0498,  0.0865, -0.0116],\n",
      "        [-0.0277, -0.1290,  0.0987, -0.2131, -0.0017,  0.2056,  0.1147,  0.0636,\n",
      "         -0.0937, -0.1898,  0.0055,  0.2068, -0.0322, -0.1779,  0.0033,  0.1760],\n",
      "        [ 0.2383, -0.1210, -0.0377,  0.2174, -0.0922,  0.1904, -0.2245, -0.0870,\n",
      "          0.2456, -0.0785, -0.0686, -0.0803,  0.0301,  0.0872, -0.1988, -0.2339],\n",
      "        [ 0.1348,  0.0388,  0.0402,  0.0100,  0.1357,  0.0186, -0.1499, -0.1636,\n",
      "          0.1667, -0.2186,  0.2077, -0.1929, -0.0134,  0.0986, -0.0683,  0.1585],\n",
      "        [ 0.1744, -0.0073,  0.0366,  0.1872,  0.0122, -0.2500, -0.1506,  0.1593,\n",
      "          0.2485,  0.0539,  0.0291, -0.1801, -0.0249,  0.0623,  0.1407, -0.2025],\n",
      "        [ 0.0040,  1.2129,  0.4427,  0.2126,  0.3632, -0.2425, -0.2040, -0.0370,\n",
      "         -0.1340,  0.1164,  0.0313, -0.2075,  0.6516, -0.1582,  0.3975,  0.2415],\n",
      "        [-0.0303, -0.0145, -0.1178,  0.0058, -0.1833,  0.2270,  0.1388, -0.0914,\n",
      "          0.2379, -0.0835, -0.1916,  0.0540, -0.1684,  0.0955,  0.1130, -0.1560],\n",
      "        [-0.1756, -0.0099, -0.2324, -0.0795, -0.1748,  0.1431, -0.1127, -0.1525,\n",
      "         -0.1275, -0.1885,  0.2163,  0.0852, -0.0526,  0.1145,  0.1999,  0.1964],\n",
      "        [ 0.1538, -0.1241,  0.1534,  0.0908,  0.0746, -0.1335,  0.0774, -0.0946,\n",
      "          0.1453, -0.0233,  0.2365, -0.1992, -0.2657,  0.1506,  0.1772,  0.1537],\n",
      "        [-0.1513,  1.3527,  0.4964,  0.0866,  0.0696,  0.0041,  0.0246, -0.1259,\n",
      "         -0.1015,  0.2112, -0.0490,  0.0346,  1.0838, -0.1144,  0.7182,  0.3586],\n",
      "        [ 0.0375, -0.2136, -0.1689, -0.0688,  0.2073, -0.2485,  0.0319, -0.1803,\n",
      "          0.0692,  0.1738, -0.1176,  0.2166, -0.0801, -0.2478,  0.0490,  0.0879],\n",
      "        [ 0.1208,  0.1544,  0.0546, -0.2239, -0.0225,  0.0702, -0.0604,  0.1162,\n",
      "         -0.0798,  0.1898, -0.0288,  0.0051,  0.1579,  0.1134, -0.0633,  0.0417],\n",
      "        [ 0.0335, -0.0496, -0.2061,  0.1696,  0.0478,  0.0613, -0.2459,  0.1196,\n",
      "          0.1227, -0.2411, -0.1256, -0.1424, -0.1636, -0.2316, -0.2066, -0.1273],\n",
      "        [ 0.1546,  1.0571,  0.5190,  0.0233, -0.0263, -0.2158,  0.2631,  0.0220,\n",
      "         -0.0589, -0.2461,  0.1427, -0.0407,  0.5488,  0.2141,  0.4404,  0.0117],\n",
      "        [ 0.1928,  0.4642,  0.3809,  0.0840,  0.1787,  0.0877, -0.0937, -0.2409,\n",
      "          0.2322,  0.2374,  0.0572, -0.0275,  0.2721, -0.0113,  0.0062,  0.0522]],\n",
      "       requires_grad=True)\n",
      "Parameter containing:\n",
      "tensor([-0.2440,  0.2323, -0.0901, -0.1673, -0.2402, -0.1154,  1.0139,  0.1480,\n",
      "        -0.0012,  0.1296,  1.2279, -0.0623, -0.1866,  0.1546,  0.7928,  0.5520],\n",
      "       requires_grad=True)\n",
      "Parameter containing:\n",
      "tensor([[-0.1227, -0.2291,  0.2475,  0.0375, -0.1874,  0.1506, -1.0047,  0.1125,\n",
      "          0.1693, -0.0038, -1.2630, -0.1963,  0.1177, -0.0623, -0.9193, -0.4548],\n",
      "        [ 0.0064,  0.1392, -0.0711,  0.2050,  0.1970,  0.1375, -0.9321,  0.1649,\n",
      "          0.2286,  0.1406, -1.3394, -0.1688, -0.0373,  0.0703, -0.7303, -0.5884],\n",
      "        [-0.1038,  0.0150,  0.1688,  0.0494,  0.1831,  0.1454, -1.1076,  0.0566,\n",
      "         -0.0051,  0.1241, -1.1124, -0.0934, -0.1888,  0.1042, -0.9320, -0.3987]],\n",
      "       requires_grad=True)\n",
      "Parameter containing:\n",
      "tensor([-0.4866, -0.8033, -0.8244], requires_grad=True)\n"
     ]
    }
   ],
   "source": [
    "for param in policy_net.parameters():\n",
    "    print(param)"
   ]
  }
 ],
 "metadata": {
  "kernelspec": {
   "display_name": "Python 3",
   "language": "python",
   "name": "python3"
  },
  "language_info": {
   "codemirror_mode": {
    "name": "ipython",
    "version": 3
   },
   "file_extension": ".py",
   "mimetype": "text/x-python",
   "name": "python",
   "nbconvert_exporter": "python",
   "pygments_lexer": "ipython3",
   "version": "3.6.6"
  }
 },
 "nbformat": 4,
 "nbformat_minor": 1
}
